{
 "metadata": {
  "language_info": {
   "codemirror_mode": {
    "name": "ipython",
    "version": 3
   },
   "file_extension": ".py",
   "mimetype": "text/x-python",
   "name": "python",
   "nbconvert_exporter": "python",
   "pygments_lexer": "ipython3",
   "version": "3.7.10"
  },
  "orig_nbformat": 4,
  "kernelspec": {
   "name": "python3",
   "display_name": "Python 3.7.10 32-bit ('py32': conda)"
  },
  "interpreter": {
   "hash": "a14a90542a7de25e9ff6921ff52f41da405a7bdffedb21c0665e5c2113fc8d95"
  }
 },
 "nbformat": 4,
 "nbformat_minor": 2,
 "cells": [
  {
   "cell_type": "code",
   "execution_count": 1,
   "metadata": {},
   "outputs": [],
   "source": [
    "import logging\n",
    "logging.basicConfig(filename='aaaa.log', level=logging.INFO)\n",
    "\n",
    "logging.info(\"helldddo\")"
   ]
  },
  {
   "cell_type": "code",
   "execution_count": 7,
   "metadata": {},
   "outputs": [],
   "source": [
    "import os"
   ]
  },
  {
   "cell_type": "code",
   "execution_count": 12,
   "metadata": {},
   "outputs": [],
   "source": [
    "files = os.listdir(\"./models/\")\n",
    "codes=list()\n",
    "for f in files:\n",
    "    codes.append(f.replace(\".pt\",\"\"))"
   ]
  },
  {
   "cell_type": "code",
   "execution_count": 29,
   "metadata": {},
   "outputs": [],
   "source": [
    "class Jango():\n",
    "    def __init__(self, code):        \n",
    "        self.jango=dict()\n",
    "        self.jango[\"종목코드\"]=code\n",
    "        self.jango[\"종목명\"] = \"\"        \n",
    "        self.jango[\"체결가\"]=0\n",
    "        self.jango[\"현재가\"]=0\n",
    "        self.jango[\"체결량\"]=0 #보유수량\n",
    "        self.jango[\"주문번호\"]=\"\"\n",
    "        self.jango[\"원주문번호\"]=\"\"\n",
    "        self.jango[\"주문상태\"]=\"\"\n",
    "        self.jango[\"주문수량\"]=0\n",
    "        self.jango[\"주문가격\"]=0\n",
    "        self.jango[\"주문구분\"]=\"\"\n",
    "        self.jango[\"미체결수량\"]=\"\"\n",
    "        self.jango[\"스크린번호\"]=\"\"\n",
    "        self.jango[\"주문용스크린번호\"]=\"\"\n",
    "        self.jango[\"손익률\"]=0.\n",
    "        # self.jango[\"평균단가\"]=0\n",
    "        self.jango[\"보유금액\"]=0\n",
    "\n",
    "    def update(self):\n",
    "        #손익률\n",
    "        self.jango[\"손익률\"] = (self.jango[\"현재가\"]-self.jango[\"체결가\"])/self.jango[\"체결가\"]        \n",
    "        #보유금액\n",
    "        self.jango[\"보유금액\"]=self.jango[\"체결가\"]*self.jango[\"체결량\"] #내용 확인해 보자. 기존 주식과 합산 계산 되는지 "
   ]
  },
  {
   "cell_type": "code",
   "execution_count": 31,
   "metadata": {},
   "outputs": [],
   "source": [
    "t = Jango(\"123\")"
   ]
  },
  {
   "cell_type": "code",
   "execution_count": 33,
   "metadata": {},
   "outputs": [],
   "source": [
    "t.dict[\"현재가\"]=100\n",
    "t.dict[\"체결가\"]=200\n",
    "t.update()"
   ]
  },
  {
   "cell_type": "code",
   "execution_count": 34,
   "metadata": {},
   "outputs": [
    {
     "output_type": "execute_result",
     "data": {
      "text/plain": [
       "-0.5"
      ]
     },
     "metadata": {},
     "execution_count": 34
    }
   ],
   "source": [
    "t.dict[\"손익률\"]"
   ]
  },
  {
   "cell_type": "code",
   "execution_count": 17,
   "metadata": {},
   "outputs": [
    {
     "output_type": "execute_result",
     "data": {
      "text/plain": [
       "['__class__',\n",
       " '__delattr__',\n",
       " '__dict__',\n",
       " '__dir__',\n",
       " '__doc__',\n",
       " '__eq__',\n",
       " '__format__',\n",
       " '__ge__',\n",
       " '__getattribute__',\n",
       " '__gt__',\n",
       " '__hash__',\n",
       " '__init__',\n",
       " '__init_subclass__',\n",
       " '__le__',\n",
       " '__lt__',\n",
       " '__module__',\n",
       " '__ne__',\n",
       " '__new__',\n",
       " '__reduce__',\n",
       " '__reduce_ex__',\n",
       " '__repr__',\n",
       " '__setattr__',\n",
       " '__sizeof__',\n",
       " '__str__',\n",
       " '__subclasshook__',\n",
       " '__weakref__',\n",
       " 'calcul',\n",
       " 'update',\n",
       " '체결량']"
      ]
     },
     "metadata": {},
     "execution_count": 17
    }
   ],
   "source": [
    "dir(t)"
   ]
  },
  {
   "cell_type": "code",
   "execution_count": 28,
   "metadata": {},
   "outputs": [
    {
     "output_type": "execute_result",
     "data": {
      "text/plain": [
       "16"
      ]
     },
     "metadata": {},
     "execution_count": 28
    }
   ],
   "source": [
    "t.__sizeof__()"
   ]
  },
  {
   "cell_type": "code",
   "execution_count": 27,
   "metadata": {},
   "outputs": [],
   "source": [
    "t.update()"
   ]
  }
 ]
}