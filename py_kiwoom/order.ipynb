{
 "metadata": {
  "language_info": {
   "codemirror_mode": {
    "name": "ipython",
    "version": 3
   },
   "file_extension": ".py",
   "mimetype": "text/x-python",
   "name": "python",
   "nbconvert_exporter": "python",
   "pygments_lexer": "ipython3",
   "version": "3.7.10"
  },
  "orig_nbformat": 4,
  "kernelspec": {
   "name": "python3",
   "display_name": "Python 3.7.10 32-bit ('py32': conda)"
  },
  "interpreter": {
   "hash": "a14a90542a7de25e9ff6921ff52f41da405a7bdffedb21c0665e5c2113fc8d95"
  }
 },
 "nbformat": 4,
 "nbformat_minor": 2,
 "cells": [
  {
   "cell_type": "code",
   "execution_count": 1,
   "metadata": {},
   "outputs": [],
   "source": [
    "from pykiwoom.kiwoom import *\n",
    "import pickle\n",
    "from tqdm import tqdm\n",
    "import time \n",
    "import numpy as np\n",
    "from multiprocessing import Process\n",
    "from db_control import *\n",
    "\n",
    "SLEEP_TIME = 3.6\n",
    "TREQUEST = \"opt10080\"\n",
    "TICK = \"3\"\n",
    "DATA_LENGTH = 64\n",
    "\n",
    "kiwoom = Kiwoom()\n",
    "kiwoom.CommConnect(block=True)\n",
    "accounts = kiwoom.GetLoginInfo(\"ACCNO\")\n",
    "stock_account = accounts[0]\n",
    "rt = kiwoom.SendOrder(\"시장가매수\", \"0101\", stock_account, 1, \"005930\", 10, 0, \"03\", \"\")"
   ]
  },
  {
   "cell_type": "code",
   "execution_count": 3,
   "metadata": {},
   "outputs": [],
   "source": [
    "rt"
   ]
  },
  {
   "cell_type": "code",
   "execution_count": 4,
   "metadata": {},
   "outputs": [],
   "source": [
    "ret = order_search()"
   ]
  },
  {
   "cell_type": "code",
   "execution_count": 5,
   "metadata": {},
   "outputs": [],
   "source": [
    "for i in ret:\n",
    "    company, order_time, *args = i\n",
    "    #order\n",
    "    #update\n",
    "    change_trade_bool(company, order_time)    "
   ]
  },
  {
   "cell_type": "code",
   "execution_count": 2,
   "metadata": {},
   "outputs": [
    {
     "output_type": "error",
     "ename": "TypeError",
     "evalue": "SendOrder() missing 9 required positional arguments: 'rqname', 'screen', 'accno', 'order_type', 'code', 'quantity', 'price', 'hoga', and 'order_no'",
     "traceback": [
      "\u001b[1;31m---------------------------------------------------------------------------\u001b[0m",
      "\u001b[1;31mTypeError\u001b[0m                                 Traceback (most recent call last)",
      "\u001b[1;32m<ipython-input-2-0af99d7368be>\u001b[0m in \u001b[0;36m<module>\u001b[1;34m\u001b[0m\n\u001b[1;32m----> 1\u001b[1;33m \u001b[0mkiwoom\u001b[0m\u001b[1;33m.\u001b[0m\u001b[0mSendOrder\u001b[0m\u001b[1;33m(\u001b[0m\u001b[1;33m)\u001b[0m\u001b[1;33m\u001b[0m\u001b[1;33m\u001b[0m\u001b[0m\n\u001b[0m",
      "\u001b[1;31mTypeError\u001b[0m: SendOrder() missing 9 required positional arguments: 'rqname', 'screen', 'accno', 'order_type', 'code', 'quantity', 'price', 'hoga', and 'order_no'"
     ]
    }
   ],
   "source": [
    "kiwoom.SendOrder(\"시장가매수\", \"0101\", stock_account, 1, \"005930\", 10, 0, \"03\", \"\")"
   ]
  }
 ]
}